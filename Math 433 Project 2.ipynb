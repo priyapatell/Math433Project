{
 "cells": [
  {
   "cell_type": "markdown",
   "metadata": {},
   "source": [
    "### MATH 433 Project 2\n",
    "### Priya Patel"
   ]
  },
  {
   "cell_type": "code",
   "execution_count": 108,
   "metadata": {},
   "outputs": [],
   "source": [
    "import numpy as np\n",
    "import matplotlib.pyplot as plt\n",
    "import scipy.stats as stat"
   ]
  },
  {
   "cell_type": "markdown",
   "metadata": {},
   "source": [
    "###### Part 1: Write a program implementing the Black/Scholes Pricing Formula"
   ]
  },
  {
   "cell_type": "code",
   "execution_count": 109,
   "metadata": {},
   "outputs": [],
   "source": [
    "def BS(S,T,K,r,vol,div,opt):\n",
    "    d1= (np.log(S/K) + (r-div+((vol**2)/2))*T)/(vol*np.sqrt(T))\n",
    "    d2= d1- vol*np.sqrt(T)\n",
    "    if opt == 'Call':   \n",
    "        Nd1= stat.norm(0,1).cdf(d1)\n",
    "        Nd2= stat.norm(0,1).cdf(d2)\n",
    "        price= S*np.exp(-div*T)*Nd1 - K*np.exp(-r*T)*Nd2\n",
    "    if opt == 'Put':\n",
    "        Nd1= stat.norm(0,1).cdf(-d1)\n",
    "        Nd2= stat.norm(0,1).cdf(-d2)\n",
    "        price= K*np.exp(-r*T)*Nd2 - S*np.exp(-div*T)*Nd1\n",
    "    return price"
   ]
  },
  {
   "cell_type": "markdown",
   "metadata": {},
   "source": [
    "###### Part 2: Implement formula and show it is correct using Put/Call Parity"
   ]
  },
  {
   "cell_type": "code",
   "execution_count": 110,
   "metadata": {},
   "outputs": [
    {
     "data": {
      "text/plain": [
       "10.79068689878099"
      ]
     },
     "execution_count": 110,
     "metadata": {},
     "output_type": "execute_result"
    }
   ],
   "source": [
    "C= BS(250,6/12,260,.04,.20,.02,'Call')\n",
    "C"
   ]
  },
  {
   "cell_type": "code",
   "execution_count": 111,
   "metadata": {},
   "outputs": [
    {
     "data": {
      "text/plain": [
       "18.129883521245347"
      ]
     },
     "execution_count": 111,
     "metadata": {},
     "output_type": "execute_result"
    }
   ],
   "source": [
    "P= BS(250,6/12,260,.04,.20,.02,'Put')\n",
    "P"
   ]
  },
  {
   "cell_type": "code",
   "execution_count": 112,
   "metadata": {},
   "outputs": [
    {
     "name": "stdout",
     "output_type": "stream",
     "text": [
      "265.6423419585374 = 265.6423419585374\n",
      "\n",
      "Put Call Parity holds so the formula is implemented correctly.\n"
     ]
    }
   ],
   "source": [
    "#Using Put/Call Parity to show validity\n",
    "\n",
    "#Formula: C + Ke^(-r*T) = P + Se^(-div*T)\n",
    "#Parameters: S= 250, T= 6/12, K= 260, r= .04, vol= .20, div= .02\n",
    "#Substitute:\n",
    "left= C + 260*np.exp(-.04*(6/12))\n",
    "right= P + 250*np.exp(-.02*(6/12))\n",
    "if left == right:\n",
    "    print('{} = {}\\n'.format(left,right))\n",
    "    print('Put Call Parity holds so the formula is implemented correctly.')\n",
    "else:\n",
    "    print('{} != {}\\n'.format(left,right))\n",
    "    print('Put Call Parity does not hold.')"
   ]
  },
  {
   "cell_type": "markdown",
   "metadata": {},
   "source": [
    "###### Part 3: Show how a Call behaves as a function of volatility"
   ]
  },
  {
   "cell_type": "code",
   "execution_count": 113,
   "metadata": {},
   "outputs": [
    {
     "name": "stdout",
     "output_type": "stream",
     "text": [
      "As volatility approaches infinity: \n",
      "\n",
      "At volatility= 20%, the Call is priced at 10.79069\n",
      "At volatility= 320%, the Call is priced at 182.74282\n",
      "At volatility= 620%, the Call is priced at 240.38548\n",
      "At volatility= 920%, the Call is priced at 247.22535\n",
      "At volatility= 1220%, the Call is priced at 247.50842\n",
      "At volatility= 1000000%, the Call is priced at 247.51246\n",
      "At volatility= 100000000%, the Call is priced at 247.51246\n",
      "At volatility= 10000000000%, the Call is priced at 247.51246\n",
      "\n",
      "S*e^(-div*T) using S= 250, div= 2% and T= 6 months equals 247.51246\n",
      "\n",
      "The Call approaches S*e(-div*T). In other words, the call approaches the STOCK PRICE.\n"
     ]
    }
   ],
   "source": [
    "#Look at it as vol -> infinity and vol -> 0\n",
    "#Use the same parameters as the prev question\n",
    "\n",
    "#As vol -> infinity (increase vol by 300 each increment)\n",
    "print('As volatility approaches infinity: \\n')\n",
    "inc1= BS(250,6/12,260,.04,.20,.02,'Call')\n",
    "inc2= BS(250,6/12,260,.04,3.20,.02,'Call')\n",
    "inc3= BS(250,6/12,260,.04,6.20,.02,'Call')\n",
    "inc4= BS(250,6/12,260,.04,9.20,.02,'Call')\n",
    "inc5= BS(250,6/12,260,.04,12.20,.02,'Call')\n",
    "print('At volatility= 20%, the Call is priced at {:4.5f}'.format(inc1))\n",
    "print('At volatility= 320%, the Call is priced at {:4.5f}'.format(inc2))\n",
    "print('At volatility= 620%, the Call is priced at {:4.5f}'.format(inc3))\n",
    "print('At volatility= 920%, the Call is priced at {:4.5f}'.format(inc4))\n",
    "print('At volatility= 1220%, the Call is priced at {:4.5f}'.format(inc5))\n",
    "    #Jump to numbers closer to infinity\n",
    "inc6= BS(250,6/12,260,.04,10000,.02,'Call')\n",
    "inc7= BS(250,6/12,260,.04,1000000,.02,'Call')\n",
    "inc8= BS(250,6/12,260,.04,100000000,.02,'Call')\n",
    "print('At volatility= 1000000%, the Call is priced at {:4.5f}'.format(inc6))\n",
    "print('At volatility= 100000000%, the Call is priced at {:4.5f}'.format(inc7))\n",
    "print('At volatility= 10000000000%, the Call is priced at {:4.5f}'.format(inc8))\n",
    "print('\\nS*e^(-div*T) using S= 250, div= 2% and T= 6 months equals {:4.5f}'.format(250*np.exp(-.02*.5)))\n",
    "print('\\nThe Call approaches S*e(-div*T). In other words, the call approaches the STOCK PRICE.')"
   ]
  },
  {
   "cell_type": "code",
   "execution_count": 114,
   "metadata": {},
   "outputs": [
    {
     "name": "stdout",
     "output_type": "stream",
     "text": [
      "As volatility approaches 0: \n",
      "\n",
      "At volatility= 20%, the Call is priced at 10.79069\n",
      "At volatility= 15%, the Call is priced at 7.35421\n",
      "At volatility= 10%, the Call is priced at 4.01076\n",
      "At volatility= 5%, the Call is priced at 1.01838\n",
      "At volatility= .001%, the Call is priced at 0.00000\n",
      "\n",
      "The Call approaches 0.\n"
     ]
    }
   ],
   "source": [
    "#As vol -> 0 (decrease vol by 5 each decrement)\n",
    "print('As volatility approaches 0: \\n')\n",
    "dec1= BS(250,6/12,260,.04,.20,.02,'Call')\n",
    "dec2= BS(250,6/12,260,.04,.15,.02,'Call')\n",
    "dec3= BS(250,6/12,260,.04,.10,.02,'Call')\n",
    "dec4= BS(250,6/12,260,.04,.05,.02,'Call')\n",
    "dec5= BS(250,6/12,260,.04,.00001,.02,'Call')\n",
    "print('At volatility= 20%, the Call is priced at {:4.5f}'.format(dec1))\n",
    "print('At volatility= 15%, the Call is priced at {:4.5f}'.format(dec2))\n",
    "print('At volatility= 10%, the Call is priced at {:4.5f}'.format(dec3))\n",
    "print('At volatility= 5%, the Call is priced at {:4.5f}'.format(dec4))\n",
    "print('At volatility= .001%, the Call is priced at {:4.5f}'.format(dec5))\n",
    "print('\\nThe Call approaches 0.')"
   ]
  },
  {
   "cell_type": "markdown",
   "metadata": {},
   "source": [
    "###### Part 4: Show how a Put behaves as a function of volatility"
   ]
  },
  {
   "cell_type": "code",
   "execution_count": 115,
   "metadata": {},
   "outputs": [
    {
     "name": "stdout",
     "output_type": "stream",
     "text": [
      "As volatility approaches infinity: \n",
      "\n",
      "At volatility= 20%, the Put is priced at 18.12988\n",
      "At volatility= 320%, the Put is priced at 190.08201\n",
      "At volatility= 620%, the Put is priced at 247.72468\n",
      "At volatility= 920%, the Put is priced at 254.56454\n",
      "At volatility= 1220%, the Put is priced at 254.84762\n",
      "At volatility= 1000000%, the Put is priced at 254.85166\n",
      "At volatility= 100000000%, the Put is priced at 254.85166\n",
      "At volatility= 10000000000%, the Put is priced at 254.85166\n",
      "\n",
      "K*e^(-r*T) using K= 260, r= 4% and T= 6 months equals 254.85166\n",
      "\n",
      "The Put approaches K*e(-r*T). In other words, the put approaches the STRIKE PRICE.\n"
     ]
    }
   ],
   "source": [
    "#Look at it as vol -> infinity and vol -> 0\n",
    "#Use the same parameters as the prev question\n",
    "\n",
    "#As vol -> infinity (increase vol by 300 each increment)\n",
    "print('As volatility approaches infinity: \\n')\n",
    "Pinc1= BS(250,6/12,260,.04,.20,.02,'Put')\n",
    "Pinc2= BS(250,6/12,260,.04,3.20,.02,'Put')\n",
    "Pinc3= BS(250,6/12,260,.04,6.20,.02,'Put')\n",
    "Pinc4= BS(250,6/12,260,.04,9.20,.02,'Put')\n",
    "Pinc5= BS(250,6/12,260,.04,12.20,.02,'Put')\n",
    "print('At volatility= 20%, the Put is priced at {:4.5f}'.format(Pinc1))\n",
    "print('At volatility= 320%, the Put is priced at {:4.5f}'.format(Pinc2))\n",
    "print('At volatility= 620%, the Put is priced at {:4.5f}'.format(Pinc3))\n",
    "print('At volatility= 920%, the Put is priced at {:4.5f}'.format(Pinc4))\n",
    "print('At volatility= 1220%, the Put is priced at {:4.5f}'.format(Pinc5))\n",
    "    #Jump to numbers closer to infinity\n",
    "Pinc6= BS(250,6/12,260,.04,10000,.02,'Put')\n",
    "Pinc7= BS(250,6/12,260,.04,1000000,.02,'Put')\n",
    "Pinc8= BS(250,6/12,260,.04,100000000,.02,'Put')\n",
    "print('At volatility= 1000000%, the Put is priced at {:4.5f}'.format(Pinc6))\n",
    "print('At volatility= 100000000%, the Put is priced at {:4.5f}'.format(Pinc7))\n",
    "print('At volatility= 10000000000%, the Put is priced at {:4.5f}'.format(Pinc8))\n",
    "print('\\nK*e^(-r*T) using K= 260, r= 4% and T= 6 months equals {:4.5f}'.format(260*np.exp(-.04*.5)))\n",
    "print('\\nThe Put approaches K*e(-r*T). In other words, the put approaches the STRIKE PRICE.')"
   ]
  },
  {
   "cell_type": "code",
   "execution_count": 116,
   "metadata": {},
   "outputs": [
    {
     "name": "stdout",
     "output_type": "stream",
     "text": [
      "As volatility approaches 0: \n",
      "\n",
      "At volatility= 20%, the Put is priced at 18.12988\n",
      "At volatility= 15%, the Put is priced at 14.69340\n",
      "At volatility= 10%, the Put is priced at 11.34996\n",
      "At volatility= 5%, the Put is priced at 8.35757\n",
      "At volatility= .001%, the Put is priced at 0.00000\n",
      "\n",
      "The Put approaches 0.\n"
     ]
    }
   ],
   "source": [
    "#As vol -> 0 (decrease vol by 5 each decrement)\n",
    "print('As volatility approaches 0: \\n')\n",
    "Pdec1= BS(250,6/12,260,.04,.20,.02,'Put')\n",
    "Pdec2= BS(250,6/12,260,.04,.15,.02,'Put')\n",
    "Pdec3= BS(250,6/12,260,.04,.10,.02,'Put')\n",
    "Pdec4= BS(250,6/12,260,.04,.05,.02,'Put')\n",
    "Pdec5= BS(250,6/12,260,.04,.00001,.02,'Call')\n",
    "print('At volatility= 20%, the Put is priced at {:4.5f}'.format(Pdec1))\n",
    "print('At volatility= 15%, the Put is priced at {:4.5f}'.format(Pdec2))\n",
    "print('At volatility= 10%, the Put is priced at {:4.5f}'.format(Pdec3))\n",
    "print('At volatility= 5%, the Put is priced at {:4.5f}'.format(Pdec4))\n",
    "print('At volatility= .001%, the Put is priced at {:4.5f}'.format(Pdec5))\n",
    "print('\\nThe Put approaches 0.')"
   ]
  },
  {
   "cell_type": "markdown",
   "metadata": {},
   "source": [
    "###### Part 5: Collect stock, strike, option prices and relevant data for 3 companies."
   ]
  },
  {
   "cell_type": "markdown",
   "metadata": {},
   "source": [
    "This data is shown on the document."
   ]
  },
  {
   "cell_type": "markdown",
   "metadata": {},
   "source": [
    "###### Part 6: Substitute data into the Black Scholes equation to solve for Volatility"
   ]
  },
  {
   "cell_type": "code",
   "execution_count": 174,
   "metadata": {},
   "outputs": [],
   "source": [
    "#I am using an Iterative Method and the Black Scholes Formula already programmed above to solve for volatility.\n",
    "\n",
    "def Vol(S,T,K,r,div,price,opt):\n",
    "    guess=0\n",
    "    i=0\n",
    "    error= .01              #I want the price to be within 1% accuracy before recording the calculated volatility.\n",
    "    vol= .20                #A random guess to have as a starting point as we increase and/or decrease it later.\n",
    "    while np.abs((price-guess)/price) > error:\n",
    "        guess= BS(S,T,K,r,vol,div,opt)\n",
    "        if guess < price:\n",
    "            vol= vol+0.0001 #Choose to increment by .0001 because I want to compare up to 4 decimal places.\n",
    "        if guess > price:\n",
    "            vol= vol-0.0001\n",
    "        if i > 100000000:   #To ensure that if for some reason volatility cannot be found, it does not run in a loop.\n",
    "            error= error + .1\n",
    "            i=0\n",
    "            if error>1:\n",
    "                return None\n",
    "        i=i+1\n",
    "    return vol\n",
    "        "
   ]
  },
  {
   "cell_type": "code",
   "execution_count": 175,
   "metadata": {},
   "outputs": [
    {
     "name": "stdout",
     "output_type": "stream",
     "text": [
      "MetLife Calls 2017: \n",
      "\n",
      "K=40 : 0.275000\n",
      "K=45 : 0.244300\n",
      "K=50 : 0.227700\n",
      "\n",
      "MetLife Calls 2018: \n",
      "\n",
      "K=40 : 0.300700\n",
      "K=45 : 0.248200\n",
      "K=50 : 0.220500\n",
      "\n",
      "MetLife Calls 2019: \n",
      "\n",
      "K=40 : 0.235200\n",
      "K=45 : 0.199900\n",
      "K=50 : 0.176200\n"
     ]
    }
   ],
   "source": [
    "print('MetLife Calls 2017: \\n')\n",
    "print('K=40 : {0:2.6f}'.format(Vol(47.55,.25,40,.0091,.03868,7.59,'Call')))\n",
    "print('K=45 : {0:2.6f}'.format(Vol(47.55,.25,45,.0091,.03868,3.54,'Call')))\n",
    "print('K=50 : {0:2.6f}'.format(Vol(47.55,.25,50,.0091,.03868,1.09,'Call')))\n",
    "print('\\nMetLife Calls 2018: \\n')\n",
    "print('K=40 : {0:2.6f}'.format(Vol(47.32,.25,40,.0168,.03665,7.59,'Call')))\n",
    "print('K=45 : {0:2.6f}'.format(Vol(47.32,.25,45,.0168,.03665,3.49,'Call')))\n",
    "print('K=50 : {0:2.6f}'.format(Vol(47.32,.25,50,.0168,.03665,0.99,'Call')))\n",
    "print('\\nMetLife Calls 2019: \\n')\n",
    "print('K=40 : {0:2.6f}'.format(Vol(45.31,.25,40,.0240,.03964,5.55,'Call')))\n",
    "print('K=45 : {0:2.6f}'.format(Vol(45.31,.25,45,.0240,.03964,1.84,'Call')))\n",
    "print('K=50 : {0:2.6f}'.format(Vol(45.31,.25,50,.0240,.03964,0.25,'Call')))"
   ]
  },
  {
   "cell_type": "code",
   "execution_count": 182,
   "metadata": {},
   "outputs": [
    {
     "name": "stdout",
     "output_type": "stream",
     "text": [
      "MetLife Puts 2017: \n",
      "\n",
      "K=40 : 0.285600\n",
      "K=45 : 0.242800\n",
      "K=50 : 0.220500\n",
      "\n",
      "MetLife Puts 2018: \n",
      "\n",
      "K=40 : 0.308400\n",
      "K=45 : 0.245700\n",
      "K=50 : 0.210700\n",
      "\n",
      "MetLife Puts 2019: \n",
      "\n",
      "K=40 : 0.241900\n",
      "K=45 : 0.199400\n",
      "K=50 : 0.182400\n"
     ]
    }
   ],
   "source": [
    "print('MetLife Puts 2017: \\n')\n",
    "print('K=40 : {0:2.6f}'.format(Vol(47.55,3/12,40,.0091,.03868,0.38,'Put')))\n",
    "print('K=45 : {0:2.6f}'.format(Vol(47.55,3/12,45,.0091,.03868,1.31,'Put')))\n",
    "print('K=50 : {0:2.6f}'.format(Vol(47.55,3/12,50,.0091,.03868,3.85,'Put')))\n",
    "print('\\nMetLife Puts 2018: \\n')\n",
    "print('K=40 : {0:2.6f}'.format(Vol(47.32,3/12,40,.0168,.03665,0.50,'Put')))\n",
    "print('K=45 : {0:2.6f}'.format(Vol(47.32,3/12,45,.0168,.03665,1.37,'Put')))\n",
    "print('K=50 : {0:2.6f}'.format(Vol(47.32,3/12,50,.0168,.03665,3.84,'Put')))\n",
    "print('\\nMetLife Puts 2019: \\n')\n",
    "print('K=40 : {0:2.6f}'.format(Vol(45.31,3/12,40,.0240,.03964,0.43,'Put')))\n",
    "print('K=45 : {0:2.6f}'.format(Vol(45.31,3/12,45,.0240,.03964,1.70,'Put')))\n",
    "print('K=50 : {0:2.6f}'.format(Vol(45.31,3/12,50,.0240,.03964,5.07,'Put')))"
   ]
  },
  {
   "cell_type": "code",
   "execution_count": 177,
   "metadata": {},
   "outputs": [
    {
     "name": "stdout",
     "output_type": "stream",
     "text": [
      "Costco Calls 2017: \n",
      "\n",
      "K=165 : 0.162900\n",
      "K=175 : 0.149800\n",
      "K=185 : 0.144800\n",
      "\n",
      "Costco Calls 2018: \n",
      "\n",
      "K=180 : 0.208500\n",
      "K=190 : 0.199900\n",
      "K=200 : 0.189000\n",
      "\n",
      "Costco Calls 2019: \n",
      "\n",
      "K=235 : 0.174300\n",
      "K=245 : 0.163400\n",
      "K=255 : 0.157100\n"
     ]
    }
   ],
   "source": [
    "print('Costco Calls 2017: \\n')\n",
    "print('K=165 : {0:2.6f}'.format(Vol(167.81,.25,165,.0091,.01186,6.78,'Call')))\n",
    "print('K=175 : {0:2.6f}'.format(Vol(167.81,.25,175,.0091,.01186,2.25,'Call')))\n",
    "print('K=185 : {0:2.6f}'.format(Vol(167.81,.25,185,.0091,.01186,0.51,'Call')))\n",
    "print('\\nCostco Calls 2018: \\n')\n",
    "print('K=180 : {0:2.6f}'.format(Vol(185.87,.25,180,.0168,.01202,11.10,'Call')))\n",
    "print('K=190 : {0:2.6f}'.format(Vol(185.87,.25,190,.0168,.01202,5.64,'Call')))\n",
    "print('K=200 : {0:2.6f}'.format(Vol(185.87,.25,200,.0168,.01202,2.31,'Call')))\n",
    "print('\\nCostco Calls 2019: \\n')\n",
    "print('K=235 : {0:2.6f}'.format(Vol(233.60,.25,235,.0240,.01075,7.73,'Call')))\n",
    "print('K=245 : {0:2.6f}'.format(Vol(233.60,.25,245,.0240,.01075,3.57,'Call')))\n",
    "print('K=255 : {0:2.6f}'.format(Vol(233.60,.25,255,.0240,.01075,1.37,'Call')))"
   ]
  },
  {
   "cell_type": "code",
   "execution_count": 185,
   "metadata": {},
   "outputs": [
    {
     "name": "stdout",
     "output_type": "stream",
     "text": [
      "PetroChina Puts 2017: \n",
      "\n",
      "K=5.5 : 0.215700\n",
      "K=6 : 0.222400\n",
      "\n",
      "PetroChina Puts 2018: \n",
      "\n",
      "K=5 : 0.296500\n",
      "K=5.5 : 0.309300\n",
      "K=6 : 0.334100\n",
      "\n",
      "PetroChina Puts 2019: \n",
      "\n",
      "K=5 : 0.271500\n",
      "K=5.5 : 0.303200\n",
      "K=6 : 0.373500\n"
     ]
    }
   ],
   "source": [
    "print('PetroChina Puts 2017: \\n')\n",
    "#print('K=5 : {0:2.6f}'.format(Vol(5.86,.25,5,.0091,.01944,0.40,'Put')))\n",
    "print('K=5.5 : {0:2.6f}'.format(Vol(5.86,.25,5.5,.0091,.01944,0.11,'Put')))\n",
    "print('K=6 : {0:2.6f}'.format(Vol(5.86,.25,6,.0091,.01944,0.35,'Put')))\n",
    "print('\\nPetroChina Puts 2018: \\n')\n",
    "print('K=5 : {0:2.6f}'.format(Vol(5.32,.25,5,.0168,.01202,0.17,'Put')))\n",
    "print('K=5.5 : {0:2.6f}'.format(Vol(5.32,.25,5.5,.0168,.01202,0.43,'Put')))\n",
    "print('K=6 : {0:2.6f}'.format(Vol(5.32,.25,6,.0168,.01202,0.81,'Put')))\n",
    "print('\\nPetroChina Puts 2019: \\n')\n",
    "print('K=5 : {0:2.6f}'.format(Vol(5.10,.25,5,.0240,.01075,0.22,'Put')))\n",
    "print('K=5.5 : {0:2.6f}'.format(Vol(5.10,.25,5.5,.0240,.01075,0.55,'Put')))\n",
    "print('K=6 : {0:2.6f}'.format(Vol(5.10,.25,6,.0240,.01075,1.00,'Put')))"
   ]
  },
  {
   "cell_type": "code",
   "execution_count": null,
   "metadata": {},
   "outputs": [],
   "source": []
  },
  {
   "cell_type": "code",
   "execution_count": null,
   "metadata": {},
   "outputs": [],
   "source": []
  }
 ],
 "metadata": {
  "kernelspec": {
   "display_name": "Python 3",
   "language": "python",
   "name": "python3"
  },
  "language_info": {
   "codemirror_mode": {
    "name": "ipython",
    "version": 3
   },
   "file_extension": ".py",
   "mimetype": "text/x-python",
   "name": "python",
   "nbconvert_exporter": "python",
   "pygments_lexer": "ipython3",
   "version": "3.7.4"
  }
 },
 "nbformat": 4,
 "nbformat_minor": 2
}
