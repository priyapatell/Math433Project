{
 "cells": [
  {
   "cell_type": "markdown",
   "metadata": {},
   "source": [
    "## Math 433 Project 1\n",
    "### Priya Patel"
   ]
  },
  {
   "cell_type": "code",
   "execution_count": 2,
   "metadata": {},
   "outputs": [],
   "source": [
    "import numpy as np\n",
    "import matplotlib.pyplot as plt"
   ]
  },
  {
   "cell_type": "markdown",
   "metadata": {},
   "source": [
    "#### Cox Ross Rubenstein Model- European"
   ]
  },
  {
   "cell_type": "code",
   "execution_count": 51,
   "metadata": {},
   "outputs": [],
   "source": [
    "def CRREuro (r,n,t,o,So,K,opt,array_out):\n",
    "    '''\n",
    "    r= interest rate\n",
    "    n= steps in tree\n",
    "    t= time steps\n",
    "    o= volatility\n",
    "    So= stock price\n",
    "    K= strike price\n",
    "    opt= Call or Put\n",
    "    '''\n",
    "    u= np.exp(o*np.sqrt(t))\n",
    "    d= 1/u\n",
    "    p= (np.exp(r*t)-d)/(u-d)\n",
    "    q= 1-p\n",
    "    \n",
    "    #Stock Price Tree\n",
    "    price_tree= np.zeros([n+1, n+1])\n",
    "    \n",
    "    for i in range(n+1):\n",
    "        for j in range(n+1):\n",
    "            price_tree[j,i]= So*(d**j)*(u**(i-j))\n",
    "    \n",
    "    #Option Price Tree\n",
    "    option= np.zeros([n+1,n+1])\n",
    "    if opt== 'Call':\n",
    "        option[:, n]= np.maximum(np.zeros(n+1), price_tree[:, n]-K)\n",
    "    if opt== 'Put':\n",
    "        option[:, n]= np.maximum(np.zeros(n+1), K-price_tree[:, n])\n",
    "    \n",
    "    for i in np.arange(n-1, -1, -1):\n",
    "        for j in np.arange(0, i+1):\n",
    "            option[j, i]= np.exp(-r*t)*(p*option[j, i+1] + (1-p)*option[j+1, i+1])            \n",
    "            \n",
    "    #Return\n",
    "    if array_out:\n",
    "        return [round(option[0,0],8), price_tree, option]\n",
    "    else:\n",
    "        return round(option[0,0],8)\n"
   ]
  },
  {
   "cell_type": "code",
   "execution_count": 52,
   "metadata": {},
   "outputs": [
    {
     "name": "stdout",
     "output_type": "stream",
     "text": [
      "MetLife CRR European\n",
      "K=50, n=5, t=.25:\n",
      "Call: 7.90527081\n",
      "Put: 5.77674204\n",
      "\n",
      "K=50, n=30, t=1/12:\n",
      "Call: 11.23718539\n",
      "Put: 6.78905629\n",
      "\n",
      "K=47.50, n=5, t=.25:\n",
      "Call: 9.07622944\n",
      "\n",
      "K=47.50, n=30, t=1/12:\n",
      "Call: 12.46769372\n",
      "\n",
      "K=52.50, n=5, t=.25:\n",
      "Put: 6.98385697\n",
      "\n",
      "K=52.50, n=30, t=1/12:\n",
      "Put: 8.10681377\n"
     ]
    }
   ],
   "source": [
    "print('MetLife CRR European\\nK=50, n=5, t=.25:')\n",
    "print('Call:',CRREuro(.04,5,0.25,0.3,49.69,50,'Call', False))\n",
    "print('Put:', CRREuro(.04,5,0.25,0.3,49.69,50,'Put', False))\n",
    "\n",
    "print('\\nK=50, n=30, t=1/12:')\n",
    "print('Call:',CRREuro(.04,30,1/12,0.3,49.69,50,'Call', False))\n",
    "print('Put:', CRREuro(.04,30,1/12,0.3,49.69,50,'Put', False))\n",
    "\n",
    "print('\\nK=47.50, n=5, t=.25:')\n",
    "print('Call:',CRREuro(.04,5,0.25,0.3,49.69,47.50,'Call', False))\n",
    "\n",
    "print('\\nK=47.50, n=30, t=1/12:')\n",
    "print('Call:',CRREuro(.04,30,1/12,0.3,49.69,47.50,'Call', False))\n",
    "\n",
    "print('\\nK=52.50, n=5, t=.25:')\n",
    "print('Put:', CRREuro(.04,5,0.25,0.3,49.69,52.50,'Put', False))\n",
    "\n",
    "print('\\nK=52.50, n=30, t=1/12:')\n",
    "print('Put:', CRREuro(.04,30,1/12,0.3,49.69,52.50,'Put', False))"
   ]
  },
  {
   "cell_type": "code",
   "execution_count": 53,
   "metadata": {},
   "outputs": [
    {
     "name": "stdout",
     "output_type": "stream",
     "text": [
      "PetroChina CRR European\n",
      "K=40, n=5, t=.25:\n",
      "Call: 8.42217897\n",
      "Put: 3.39135595\n",
      "\n",
      "K=40, n=30, t=1/12:\n",
      "Call: 11.40977498\n",
      "Put: 4.5232717\n",
      "\n",
      "K=35, n=5, t=.25:\n",
      "Call: 11.38711741\n",
      "\n",
      "K=35, n=30, t=1/12:\n",
      "Call: 14.10378258\n",
      "\n",
      "K=45, n=5, t=.25:\n",
      "Put: 5.80558582\n",
      "\n",
      "K=45, n=30, t=1/12:\n",
      "Put: 6.75631607\n"
     ]
    }
   ],
   "source": [
    "print('PetroChina CRR European\\nK=40, n=5, t=.25:')\n",
    "print('Call:',CRREuro(.04,5,0.25,0.3,43.08,40,'Call', False))\n",
    "print('Put:', CRREuro(.04,5,0.25,0.3,43.08,40,'Put', False))\n",
    "\n",
    "print('\\nK=40, n=30, t=1/12:')\n",
    "print('Call:',CRREuro(.04,30,1/12,0.3,43.08,40,'Call', False))\n",
    "print('Put:', CRREuro(.04,30,1/12,0.3,43.08,40,'Put', False))\n",
    "\n",
    "print('\\nK=35, n=5, t=.25:')\n",
    "print('Call:',CRREuro(.04,5,0.25,0.3,43.08,35,'Call', False))\n",
    "\n",
    "print('\\nK=35, n=30, t=1/12:')\n",
    "print('Call:',CRREuro(.04,30,1/12,0.3,43.08,35,'Call', False))\n",
    "\n",
    "print('\\nK=45, n=5, t=.25:')\n",
    "print('Put:', CRREuro(.04,5,0.25,0.3,43.08,45,'Put', False))\n",
    "\n",
    "print('\\nK=45, n=30, t=1/12:')\n",
    "print('Put:', CRREuro(.04,30,1/12,0.3,43.08,45,'Put', False))"
   ]
  },
  {
   "cell_type": "markdown",
   "metadata": {},
   "source": [
    "#### Cox Ross Rubenstein Model- American"
   ]
  },
  {
   "cell_type": "code",
   "execution_count": 40,
   "metadata": {},
   "outputs": [],
   "source": [
    "def CRRAmer (r,n,t,o,So,K,opt,array_out):\n",
    "    '''\n",
    "    r= interest rate\n",
    "    n= steps in tree\n",
    "    t= time steps\n",
    "    o= volatility\n",
    "    So= stock price\n",
    "    K= strike price\n",
    "    opt= Call or Put\n",
    "    '''\n",
    "    u= np.exp(o*np.sqrt(t))\n",
    "    d= 1/u\n",
    "    p= (np.exp(r*t)-d)/(u-d)\n",
    "    q= 1-p\n",
    "    \n",
    "    #Stock Price Tree\n",
    "    price_tree= np.zeros([n+1, n+1])\n",
    "    \n",
    "    for i in range(n+1):\n",
    "        for j in range(n+1):\n",
    "            price_tree[j,i]= So*(d**j)*(u**(i-j))\n",
    "    \n",
    "    #Option Price Tree\n",
    "    option= np.zeros([n+1,n+1])\n",
    "    if opt== 'Call':\n",
    "        option[:, n]= np.maximum(np.zeros(n+1), price_tree[:, n]-K)\n",
    "    if opt== 'Put':\n",
    "        option[:, n]= np.maximum(np.zeros(n+1), K-price_tree[:, n])\n",
    "    \n",
    "    for i in np.arange(n-1, -1, -1):\n",
    "        for j in np.arange(0, i+1):\n",
    "            if opt== 'Call':\n",
    "                a= np.maximum(0, price_tree[j,i]-K)\n",
    "            if opt=='Put':\n",
    "                a= np.maximum(0, K-price_tree[j,i])\n",
    "            b= np.exp(-r*t)*(p*option[j, i+1] + (1-p)*option[j+1, i+1])\n",
    "            if a>=b:\n",
    "                option[j,i]=a\n",
    "            if a<b:\n",
    "                option[j,i]=b              \n",
    "            \n",
    "    #Return\n",
    "    if array_out:\n",
    "        return [round(option[0,0],8), price_tree, option]\n",
    "    else:\n",
    "        return round(option[0,0],8)\n"
   ]
  },
  {
   "cell_type": "code",
   "execution_count": 41,
   "metadata": {},
   "outputs": [
    {
     "name": "stdout",
     "output_type": "stream",
     "text": [
      "Metlife CRR American\n",
      "K=50, n=5, t=.25:\n",
      "Call: 7.90527081\n",
      "Put: 5.99086684\n",
      "\n",
      "K=50, n=30, t=1/12:\n",
      "Call: 11.23718539\n",
      "Put: 7.42869192\n",
      "\n",
      "K=47.50, n=5, t=.25:\n",
      "Call: 9.07622944\n",
      "\n",
      "K=47.50, n=30, t=1/12:\n",
      "Call: 12.46769372\n",
      "\n",
      "K=52.50, n=5, t=.25:\n",
      "Put: 7.27979388\n",
      "\n",
      "K=52.50, n=30, t=1/12:\n",
      "Put: 8.86234674\n"
     ]
    }
   ],
   "source": [
    "print('Metlife CRR American\\nK=50, n=5, t=.25:')\n",
    "print('Call:',CRRAmer(.04,5,0.25,0.3,49.69,50,'Call', False))\n",
    "print('Put:', CRRAmer(.04,5,0.25,0.3,49.69,50,'Put', False))\n",
    "\n",
    "print('\\nK=50, n=30, t=1/12:')\n",
    "print('Call:',CRRAmer(.04,30,1/12,0.3,49.69,50,'Call', False))\n",
    "print('Put:', CRRAmer(.04,30,1/12,0.3,49.69,50,'Put', False))\n",
    "\n",
    "print('\\nK=47.50, n=5, t=.25:')\n",
    "print('Call:',CRRAmer(.04,5,0.25,0.3,49.69,47.50,'Call', False))\n",
    "\n",
    "print('\\nK=47.50, n=30, t=1/12:')\n",
    "print('Call:',CRRAmer(.04,30,1/12,0.3,49.69,47.50,'Call', False))\n",
    "\n",
    "print('\\nK=52.50, n=5, t=.25:')\n",
    "print('Put:', CRRAmer(.04,5,0.25,0.3,49.69,52.50,'Put', False))\n",
    "\n",
    "print('\\nK=52.50, n=30, t=1/12:')\n",
    "print('Put:', CRRAmer(.04,30,1/12,0.3,49.69,52.50,'Put', False))"
   ]
  },
  {
   "cell_type": "code",
   "execution_count": 43,
   "metadata": {},
   "outputs": [
    {
     "name": "stdout",
     "output_type": "stream",
     "text": [
      "PetroChina CRR American\n",
      "K=40, n=5, t=.25:\n",
      "Call: 8.42217897\n",
      "Put: 3.56265579\n",
      "\n",
      "K=40, n=30, t=1/12:\n",
      "Call: 11.40977498\n",
      "Put: 4.87101216\n",
      "\n",
      "K=35, n=5, t=.25:\n",
      "Call: 11.38711741\n",
      "\n",
      "K=35, n=30, t=1/12:\n",
      "Call: 14.10378258\n",
      "\n",
      "K=45, n=5, t=.25:\n",
      "Put: 6.04251146\n",
      "\n",
      "K=45, n=30, t=1/12:\n",
      "Put: 7.38519811\n"
     ]
    }
   ],
   "source": [
    "print('PetroChina CRR American\\nK=40, n=5, t=.25:')\n",
    "print('Call:',CRRAmer(.04,5,0.25,0.3,43.08,40,'Call', False))\n",
    "print('Put:', CRRAmer(.04,5,0.25,0.3,43.08,40,'Put', False))\n",
    "\n",
    "print('\\nK=40, n=30, t=1/12:')\n",
    "print('Call:',CRRAmer(.04,30,1/12,0.3,43.08,40,'Call', False))\n",
    "print('Put:', CRRAmer(.04,30,1/12,0.3,43.08,40,'Put', False))\n",
    "\n",
    "print('\\nK=35, n=5, t=.25:')\n",
    "print('Call:',CRRAmer(.04,5,0.25,0.3,43.08,35,'Call', False))\n",
    "\n",
    "print('\\nK=35, n=30, t=1/12:')\n",
    "print('Call:',CRRAmer(.04,30,1/12,0.3,43.08,35,'Call', False))\n",
    "\n",
    "print('\\nK=45, n=5, t=.25:')\n",
    "print('Put:', CRRAmer(.04,5,0.25,0.3,43.08,45,'Put', False))\n",
    "\n",
    "print('\\nK=45, n=30, t=1/12:')\n",
    "print('Put:', CRRAmer(.04,30,1/12,0.3,43.08,45,'Put', False))"
   ]
  },
  {
   "cell_type": "markdown",
   "metadata": {},
   "source": [
    "#### Hull/ White Model- American"
   ]
  },
  {
   "cell_type": "code",
   "execution_count": 44,
   "metadata": {},
   "outputs": [],
   "source": [
    "def HW (r,n,t,o,So,K,opt,array_out):\n",
    "    '''\n",
    "    r= interest rate\n",
    "    n= steps in tree\n",
    "    t= time steps\n",
    "    o= volatility\n",
    "    So= stock price\n",
    "    K= strike price\n",
    "    opt= Call or Put\n",
    "    '''\n",
    "    u= np.exp((r*t)+(o*np.sqrt(t)))\n",
    "    d= np.exp((r*t)-(o*np.sqrt(t)))\n",
    "    p= (np.exp(r*t)-d)/(u-d)\n",
    "    q= 1-p\n",
    "    \n",
    "    #Stock Price Tree\n",
    "    price_tree= np.zeros([n+1, n+1])\n",
    "    \n",
    "    for i in range(n+1):\n",
    "        for j in range(n+1):\n",
    "            price_tree[j,i]= So*(d**j)*(u**(i-j))\n",
    "    \n",
    "    #Option Price Value\n",
    "    option= np.zeros([n+1,n+1])\n",
    "    if opt== 'Call':\n",
    "        option[:, n]= np.maximum(np.zeros(n+1), price_tree[:, n]-K)\n",
    "    if opt== 'Put':\n",
    "        option[:, n]= np.maximum(np.zeros(n+1), K-price_tree[:, n])\n",
    "    \n",
    "    for i in np.arange(n-1, -1, -1):\n",
    "        for j in np.arange(0, i+1):\n",
    "            if opt== 'Call':\n",
    "                a= np.maximum(0, price_tree[j,i]-K)\n",
    "            if opt=='Put':\n",
    "                a= np.maximum(0, K-price_tree[j,i])\n",
    "            b= np.exp(-r*t)*(p*option[j, i+1] + (1-p)*option[j+1, i+1])\n",
    "            if a>=b:\n",
    "                option[j,i]=a\n",
    "            if a<b:\n",
    "                option[j,i]=b              \n",
    "            \n",
    "    #Return\n",
    "    if array_out:\n",
    "        return [round(option[0,0],8), price_tree, option]\n",
    "    else:\n",
    "        return round(option[0,0],8)"
   ]
  },
  {
   "cell_type": "code",
   "execution_count": 34,
   "metadata": {},
   "outputs": [
    {
     "name": "stdout",
     "output_type": "stream",
     "text": [
      "MetLife Hull/White American\n",
      "K=50, n=30, t=1/12:\n",
      "Call: 11.36134701\n",
      "Put: 7.49751026\n",
      "\n",
      "K=47.50, n=30, t=1/12:\n",
      "Call: 12.44097491\n",
      "\n",
      "K=52.50, n=30, t=1/12:\n",
      "Put: 8.8314292\n"
     ]
    }
   ],
   "source": [
    "print('MetLife Hull/White American\\nK=50, n=30, t=1/12:')\n",
    "print('Call:',HW(.04,30,1/12,0.3,49.69,50,'Call', False))\n",
    "print('Put:',HW(.04,30,1/12,0.3,49.69,50,'Put', False))\n",
    "\n",
    "print('\\nK=47.50, n=30, t=1/12:')\n",
    "print('Call:',HW(.04,30,1/12,0.3,49.69,47.50,'Call', False))\n",
    "\n",
    "print('\\nK=52.50, n=30, t=1/12:')\n",
    "print('Put:',HW(.04,30,1/12,0.3,49.69,52.50,'Put', False))"
   ]
  },
  {
   "cell_type": "code",
   "execution_count": 46,
   "metadata": {},
   "outputs": [
    {
     "name": "stdout",
     "output_type": "stream",
     "text": [
      "PetroChina Hull/White American\n",
      "K=40, n=5, t=.25:\n",
      "Call: 8.18789915\n",
      "Put: 3.35876255\n",
      "\n",
      "K=35, n=30, t=1/12:\n",
      "Call: 14.11013597\n",
      "\n",
      "K=45, n=30, t=1/12:\n",
      "Put: 7.37504796\n"
     ]
    }
   ],
   "source": [
    "print('PetroChina Hull/White American\\nK=40, n=5, t=.25:')\n",
    "print('Call:',HW(.04,5,0.25,0.3,43.08,40,'Call', False))\n",
    "print('Put:', HW(.04,5,0.25,0.3,43.08,40,'Put', False))\n",
    "\n",
    "print('\\nK=35, n=30, t=1/12:')\n",
    "print('Call:',HW(.04,30,1/12,0.3,43.08,35,'Call', False))\n",
    "\n",
    "print('\\nK=45, n=30, t=1/12:')\n",
    "print('Put:', HW(.04,30,1/12,0.3,43.08,45,'Put', False))"
   ]
  },
  {
   "cell_type": "markdown",
   "metadata": {},
   "source": [
    "#### Lognormal Model- European"
   ]
  },
  {
   "cell_type": "code",
   "execution_count": 47,
   "metadata": {},
   "outputs": [],
   "source": [
    "def Log (r,n,t,o,So,K,opt,array_out):\n",
    "    '''\n",
    "    r= interest rate\n",
    "    n= steps in tree\n",
    "    t= time steps\n",
    "    o= volatility\n",
    "    So= stock price\n",
    "    K= strike price\n",
    "    opt= Call or Put\n",
    "    '''\n",
    "    u= np.exp(((r-(0.5*o*o))*t)+(o*np.sqrt(t)))\n",
    "    d= np.exp(((r-(0.5*o*o))*t)-(o*np.sqrt(t)))\n",
    "    p= (np.exp(r*t)-d)/(u-d)\n",
    "    q= 1-p\n",
    "    \n",
    "    #Stock Price Tree\n",
    "    price_tree= np.zeros([n+1, n+1])\n",
    "    \n",
    "    for i in range(n+1):\n",
    "        for j in range(n+1):\n",
    "            price_tree[j,i]= So*(d**j)*(u**(i-j))\n",
    "    \n",
    "    #Option Price Tree\n",
    "    option= np.zeros([n+1,n+1])\n",
    "    if opt== 'Call':\n",
    "        option[:, n]= np.maximum(np.zeros(n+1), price_tree[:, n]-K)\n",
    "    if opt== 'Put':\n",
    "        option[:, n]= np.maximum(np.zeros(n+1), K-price_tree[:, n])\n",
    "    \n",
    "    for i in np.arange(n-1, -1, -1):\n",
    "        for j in np.arange(0, i+1):\n",
    "            option[j, i]= np.exp(-r*t)*(p*option[j, i+1] + (1-p)*option[j+1, i+1])            \n",
    "            \n",
    "    #Return\n",
    "    if array_out:\n",
    "        return [round(option[0,0],8), price_tree, option]\n",
    "    else:\n",
    "        return round(option[0,0],8)\n"
   ]
  },
  {
   "cell_type": "code",
   "execution_count": 48,
   "metadata": {},
   "outputs": [
    {
     "name": "stdout",
     "output_type": "stream",
     "text": [
      "Metlife Lognormal European\n",
      "K=50, n=30, t=1/12:\n",
      "Call: 11.27168021\n",
      "Put: 6.82355111\n",
      "\n",
      "K=47.50, n=30, t=1/12:\n",
      "Call: 12.44518011\n",
      "\n",
      "K=52.50, n=30, t=1/12:\n",
      "Put: 8.11772847\n"
     ]
    }
   ],
   "source": [
    "print('Metlife Lognormal European\\nK=50, n=30, t=1/12:')\n",
    "print('Call:',Log(.04,30,1/12,0.3,49.69,50,'Call', False))\n",
    "print('Put:',Log(.04,30,1/12,0.3,49.69,50,'Put', False))\n",
    "\n",
    "print('\\nK=47.50, n=30, t=1/12:')\n",
    "print('Call:',Log(.04,30,1/12,0.3,49.69,47.50,'Call', False))\n",
    "\n",
    "print('\\nK=52.50, n=30, t=1/12:')\n",
    "print('Put:',Log(.04,30,1/12,0.3,49.69,52.50,'Put', False))"
   ]
  },
  {
   "cell_type": "code",
   "execution_count": 50,
   "metadata": {},
   "outputs": [
    {
     "name": "stdout",
     "output_type": "stream",
     "text": [
      "PetroChina Lognormal American\n",
      "K=40, n=5, t=.25:\n",
      "Call: 8.44082349\n",
      "Put: 3.35876255\n",
      "\n",
      "K=35, n=30, t=1/12:\n",
      "Call: 14.08628926\n",
      "\n",
      "K=45, n=30, t=1/12:\n",
      "Put: 6.77064767\n"
     ]
    }
   ],
   "source": [
    "print('PetroChina Lognormal American\\nK=40, n=5, t=.25:')\n",
    "print('Call:',Log(.04,5,0.25,0.3,43.08,40,'Call', False))\n",
    "print('Put:', HW(.04,5,0.25,0.3,43.08,40,'Put', False))\n",
    "\n",
    "print('\\nK=35, n=30, t=1/12:')\n",
    "print('Call:',Log(.04,30,1/12,0.3,43.08,35,'Call', False))\n",
    "\n",
    "print('\\nK=45, n=30, t=1/12:')\n",
    "print('Put:', Log(.04,30,1/12,0.3,43.08,45,'Put', False))"
   ]
  },
  {
   "cell_type": "code",
   "execution_count": null,
   "metadata": {},
   "outputs": [],
   "source": []
  }
 ],
 "metadata": {
  "kernelspec": {
   "display_name": "Python 3",
   "language": "python",
   "name": "python3"
  },
  "language_info": {
   "codemirror_mode": {
    "name": "ipython",
    "version": 3
   },
   "file_extension": ".py",
   "mimetype": "text/x-python",
   "name": "python",
   "nbconvert_exporter": "python",
   "pygments_lexer": "ipython3",
   "version": "3.7.4"
  }
 },
 "nbformat": 4,
 "nbformat_minor": 2
}
